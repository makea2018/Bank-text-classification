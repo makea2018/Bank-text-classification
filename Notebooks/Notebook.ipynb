{
 "cells": [
  {
   "cell_type": "markdown",
   "id": "3037e1c4",
   "metadata": {},
   "source": [
    "# Импорт библиотек"
   ]
  },
  {
   "cell_type": "code",
   "execution_count": 1,
   "id": "be6d00e0",
   "metadata": {},
   "outputs": [],
   "source": [
    "import pandas as pd\n",
    "import numpy as np\n",
    "import pymorphy3\n",
    "import nltk\n",
    "from nltk.tokenize import word_tokenize\n",
    "from nltk.corpus import stopwords\n",
    "from collections import Counter\n",
    "from pymystem3 import Mystem\n",
    "import re\n",
    "from collections import Counter\n",
    "from sklearn.model_selection import train_test_split\n",
    "from sklearn.linear_model import LogisticRegression"
   ]
  },
  {
   "cell_type": "code",
   "execution_count": 19,
   "id": "73f773be-d0f6-48ed-8940-8678f0131f66",
   "metadata": {},
   "outputs": [],
   "source": [
    "import joblib"
   ]
  },
  {
   "cell_type": "code",
   "execution_count": 24,
   "id": "7edc1d88-d893-49d5-87fd-695f41527625",
   "metadata": {},
   "outputs": [],
   "source": [
    "from sklearn.metrics import confusion_matrix\n",
    "import seaborn as sns\n",
    "import matplotlib.pyplot as plt  "
   ]
  },
  {
   "cell_type": "markdown",
   "id": "a2521a7d",
   "metadata": {},
   "source": [
    "## Определяем константы"
   ]
  },
  {
   "cell_type": "code",
   "execution_count": 2,
   "id": "6057112f",
   "metadata": {},
   "outputs": [],
   "source": [
    "max_words = 10000\n",
    "random_state = 42"
   ]
  },
  {
   "cell_type": "code",
   "execution_count": 20,
   "id": "92e7eabc-d7f8-464c-99e9-7e2c5098ed67",
   "metadata": {},
   "outputs": [],
   "source": [
    "main_path = \"D:/Programming/PetProjects ML/Bank-text-classification/\""
   ]
  },
  {
   "cell_type": "markdown",
   "id": "3e262fca-c8bb-4e13-8f98-a6d09c06d354",
   "metadata": {
    "jp-MarkdownHeadingCollapsed": true
   },
   "source": [
    "# Сохранение данных в csv формат"
   ]
  },
  {
   "cell_type": "code",
   "execution_count": 32,
   "id": "ef8ed0e2-1cab-4e88-8fdd-ca5aa4b52aaa",
   "metadata": {},
   "outputs": [],
   "source": [
    "df.to_csv(\"D:/Programming/Coursers of programming 2023/Stepic/NLP от Samsung/Data/banks_v2.csv\")"
   ]
  },
  {
   "cell_type": "markdown",
   "id": "044dceab-e886-4a00-9e1a-fecd91b97c19",
   "metadata": {},
   "source": [
    "# Сохранение в формате pickle"
   ]
  },
  {
   "cell_type": "code",
   "execution_count": 49,
   "id": "b4de4530-9437-4dcb-873e-d302d1ab41e8",
   "metadata": {},
   "outputs": [],
   "source": [
    "df.to_pickle(main_path + \"Data/banks_v2.pkl\")"
   ]
  },
  {
   "cell_type": "code",
   "execution_count": 40,
   "id": "2c749500-7eaf-47ac-bb13-cc19204887f6",
   "metadata": {},
   "outputs": [],
   "source": [
    "df.to_pickle(main_path + \"Data/banks_v3.pkl\")"
   ]
  },
  {
   "cell_type": "markdown",
   "id": "eac16cf3",
   "metadata": {},
   "source": [
    "# Работа с данными"
   ]
  },
  {
   "cell_type": "markdown",
   "id": "d84769cb-f628-4c58-842c-ae07f4e0e900",
   "metadata": {},
   "source": [
    "## Чтение данных (Pickle)"
   ]
  },
  {
   "cell_type": "code",
   "execution_count": 4,
   "id": "9bc421ed-19e5-4cae-aa1b-a229a6d802ad",
   "metadata": {},
   "outputs": [],
   "source": [
    "df = pd.read_pickle(main_path + \"Data/banks_v3.pkl\")"
   ]
  },
  {
   "cell_type": "markdown",
   "id": "810c1d6c-8e4a-4dfe-acbd-ffb0c72e569b",
   "metadata": {},
   "source": [
    "## Чтение данных (CSV)"
   ]
  },
  {
   "cell_type": "code",
   "execution_count": 38,
   "id": "67e4b357",
   "metadata": {},
   "outputs": [],
   "source": [
    "df = pd.read_csv(main_path + \"Data/banks.csv\",\n",
    "                 sep='\\t',\n",
    "                 index_col='idx')"
   ]
  },
  {
   "cell_type": "code",
   "execution_count": 5,
   "id": "9fed6092",
   "metadata": {},
   "outputs": [
    {
     "data": {
      "text/html": [
       "<div>\n",
       "<style scoped>\n",
       "    .dataframe tbody tr th:only-of-type {\n",
       "        vertical-align: middle;\n",
       "    }\n",
       "\n",
       "    .dataframe tbody tr th {\n",
       "        vertical-align: top;\n",
       "    }\n",
       "\n",
       "    .dataframe thead th {\n",
       "        text-align: right;\n",
       "    }\n",
       "</style>\n",
       "<table border=\"1\" class=\"dataframe\">\n",
       "  <thead>\n",
       "    <tr style=\"text-align: right;\">\n",
       "      <th></th>\n",
       "      <th>Score</th>\n",
       "      <th>Text</th>\n",
       "      <th>Preprocessed_texts</th>\n",
       "      <th>Sequences</th>\n",
       "    </tr>\n",
       "    <tr>\n",
       "      <th>idx</th>\n",
       "      <th></th>\n",
       "      <th></th>\n",
       "      <th></th>\n",
       "      <th></th>\n",
       "    </tr>\n",
       "  </thead>\n",
       "  <tbody>\n",
       "    <tr>\n",
       "      <th>0</th>\n",
       "      <td>1</td>\n",
       "      <td>В Альфа-Банке работает замечательная девушка -...</td>\n",
       "      <td>[альфа-банк, работать, замечательный, девушка,...</td>\n",
       "      <td>[0, 0, 2, 2, 3, 0, 0, 2, 0, 0, 1, 1, 0, 0, 0, ...</td>\n",
       "    </tr>\n",
       "    <tr>\n",
       "      <th>1</th>\n",
       "      <td>0</td>\n",
       "      <td>Оформляя рассрочку в м. Видео в меге тёплый ст...</td>\n",
       "      <td>[оформлять, рассрочка, м., видео, мег, тёплый,...</td>\n",
       "      <td>[1, 0, 1, 0, 3, 0, 2, 3, 1, 0, 0, 0, 1, 3, 0, ...</td>\n",
       "    </tr>\n",
       "    <tr>\n",
       "      <th>2</th>\n",
       "      <td>1</td>\n",
       "      <td>Очень порадовала оперативность работы в банке....</td>\n",
       "      <td>[очень, порадовать, оперативность, работа, бан...</td>\n",
       "      <td>[5, 3, 4, 0, 1, 0, 1, 0, 0, 2, 2, 1, 0, 1, 0, ...</td>\n",
       "    </tr>\n",
       "    <tr>\n",
       "      <th>3</th>\n",
       "      <td>0</td>\n",
       "      <td>Имела неосторожность оформить потреб. кредит в...</td>\n",
       "      <td>[иметь, неосторожность, оформить, потреба, кре...</td>\n",
       "      <td>[4, 4, 1, 0, 0, 0, 0, 6, 0, 0, 1, 1, 1, 0, 0, ...</td>\n",
       "    </tr>\n",
       "    <tr>\n",
       "      <th>4</th>\n",
       "      <td>0</td>\n",
       "      <td>Небольшая предыстория: Нашел на сайте MDM банк...</td>\n",
       "      <td>[небольшой, предыстория, найти, сайт, mdm, бан...</td>\n",
       "      <td>[10, 12, 5, 2, 8, 3, 4, 0, 0, 0, 6, 2, 0, 0, 1...</td>\n",
       "    </tr>\n",
       "  </tbody>\n",
       "</table>\n",
       "</div>"
      ],
      "text/plain": [
       "     Score                                               Text  \\\n",
       "idx                                                             \n",
       "0        1  В Альфа-Банке работает замечательная девушка -...   \n",
       "1        0  Оформляя рассрочку в м. Видео в меге тёплый ст...   \n",
       "2        1  Очень порадовала оперативность работы в банке....   \n",
       "3        0  Имела неосторожность оформить потреб. кредит в...   \n",
       "4        0  Небольшая предыстория: Нашел на сайте MDM банк...   \n",
       "\n",
       "                                    Preprocessed_texts  \\\n",
       "idx                                                      \n",
       "0    [альфа-банк, работать, замечательный, девушка,...   \n",
       "1    [оформлять, рассрочка, м., видео, мег, тёплый,...   \n",
       "2    [очень, порадовать, оперативность, работа, бан...   \n",
       "3    [иметь, неосторожность, оформить, потреба, кре...   \n",
       "4    [небольшой, предыстория, найти, сайт, mdm, бан...   \n",
       "\n",
       "                                             Sequences  \n",
       "idx                                                     \n",
       "0    [0, 0, 2, 2, 3, 0, 0, 2, 0, 0, 1, 1, 0, 0, 0, ...  \n",
       "1    [1, 0, 1, 0, 3, 0, 2, 3, 1, 0, 0, 0, 1, 3, 0, ...  \n",
       "2    [5, 3, 4, 0, 1, 0, 1, 0, 0, 2, 2, 1, 0, 1, 0, ...  \n",
       "3    [4, 4, 1, 0, 0, 0, 0, 6, 0, 0, 1, 1, 1, 0, 0, ...  \n",
       "4    [10, 12, 5, 2, 8, 3, 4, 0, 0, 0, 6, 2, 0, 0, 1...  "
      ]
     },
     "execution_count": 5,
     "metadata": {},
     "output_type": "execute_result"
    }
   ],
   "source": [
    "df.head()"
   ]
  },
  {
   "cell_type": "code",
   "execution_count": 45,
   "id": "0f0e3812-95d1-49aa-a174-f53c18f549d0",
   "metadata": {},
   "outputs": [
    {
     "name": "stdout",
     "output_type": "stream",
     "text": [
      "<class 'pandas.core.frame.DataFrame'>\n",
      "Int64Index: 13999 entries, 0 to 13998\n",
      "Data columns (total 4 columns):\n",
      " #   Column              Non-Null Count  Dtype \n",
      "---  ------              --------------  ----- \n",
      " 0   Score               13999 non-null  int32 \n",
      " 1   Text                13999 non-null  object\n",
      " 2   Preprocessed_texts  13999 non-null  object\n",
      " 3   Sequences           13999 non-null  object\n",
      "dtypes: int32(1), object(3)\n",
      "memory usage: 492.2+ KB\n"
     ]
    }
   ],
   "source": [
    "df.info()"
   ]
  },
  {
   "cell_type": "markdown",
   "id": "f09e6707",
   "metadata": {},
   "source": [
    "## Определим переменные: стоп-слова, знаки пунктуации, MorphAnalyzer(), Mystem()"
   ]
  },
  {
   "cell_type": "code",
   "execution_count": 57,
   "id": "8f30cebe",
   "metadata": {},
   "outputs": [],
   "source": [
    "punktuation_marks = ['!', ',', '(', ')', ':', '-', '?', '.', '..', '...', '«', '»', ';', '–', '--']\n",
    "stopwords_ru = stopwords.words(\"russian\")"
   ]
  },
  {
   "cell_type": "code",
   "execution_count": 58,
   "id": "126c0f4b-edf5-4ea2-b8f0-5784e231bf1b",
   "metadata": {},
   "outputs": [],
   "source": [
    "morph = pymorphy3.MorphAnalyzer()\n",
    "my_stem = Mystem()"
   ]
  },
  {
   "cell_type": "markdown",
   "id": "007226a5",
   "metadata": {
    "jp-MarkdownHeadingCollapsed": true
   },
   "source": [
    "## Предобработка текста с лемматизацией через pymorphy3\n",
    "pymorphy3 - библиотека для лемматизации и в целом работы с русским и украинским текстами"
   ]
  },
  {
   "cell_type": "code",
   "execution_count": 53,
   "id": "e27f37fe",
   "metadata": {},
   "outputs": [],
   "source": [
    "def preprocess_pymorphy3(text, stop_words, punktuation_marks, morph):\n",
    "    \"\"\"\n",
    "    \n",
    "    \"\"\"\n",
    "    tokens = word_tokenize(text)\n",
    "    preprocessed_text = []\n",
    "    \n",
    "    for token in tokens:\n",
    "        if token not in punktuation_marks:\n",
    "            lemma = morph.parse(token)[0].normal_form\n",
    "            if lemma not in stopwords_ru:\n",
    "                preprocessed_text.append(lemma)\n",
    "    return preprocessed_text"
   ]
  },
  {
   "cell_type": "markdown",
   "id": "05a8d696-b2a6-4c49-8393-a2c3f2ac7fb3",
   "metadata": {},
   "source": [
    "**Пример**"
   ]
  },
  {
   "cell_type": "code",
   "execution_count": 7,
   "id": "4a3e3630-96f0-448d-ab2f-893d599a36a9",
   "metadata": {},
   "outputs": [
    {
     "name": "stdout",
     "output_type": "stream",
     "text": [
      "['В', 'Альфа-Банке', 'работает', 'замечательная', 'девушка', '-', 'Ильясова', 'Орна', ',', 'вежливая', ',', 'отзывчивая', ',', 'действительно', 'уч']\n"
     ]
    }
   ],
   "source": [
    "print(word_tokenize(df.Text[0][:100]))"
   ]
  },
  {
   "cell_type": "code",
   "execution_count": 42,
   "id": "3fcc4aa2",
   "metadata": {},
   "outputs": [
    {
     "name": "stdout",
     "output_type": "stream",
     "text": [
      "['альфа-банк', 'работать', 'замечательный', 'девушка', 'ильясова', 'орный', 'вежливый', 'отзывчивый', 'действительно', 'уч']\n"
     ]
    }
   ],
   "source": [
    "print(preprocess_pymorphy3(df.Text[0][:100], stopwords_ru, punktuation_marks, morph))"
   ]
  },
  {
   "cell_type": "markdown",
   "id": "b5c95eda",
   "metadata": {
    "jp-MarkdownHeadingCollapsed": true
   },
   "source": [
    "## Предобработка текста с лемматизацией через pymystem3\n",
    "pymystem3 - библиотека для лемматизации и не только русского текста от Яндекс"
   ]
  },
  {
   "cell_type": "code",
   "execution_count": 10,
   "id": "21096f06",
   "metadata": {},
   "outputs": [],
   "source": [
    "def preprocess_pymystem3(text, stop_words, punktuation_marks, my_stem):\n",
    "    \"\"\"\n",
    "    \n",
    "    \"\"\"\n",
    "    tokens = word_tokenize(text.lower())\n",
    "    tokens = [token for token in tokens if token not in punctuation_marks and token not in stop_words]\n",
    "    # Удаляем англ слова из текста если есть\n",
    "    tokens_str =re.sub(r\"[A-Za-z]+\", \"\", \" \".join(tokens))\n",
    "\n",
    "    # Лемматизация\n",
    "    lemmas = my_stem.lemmatize(tokens_str)\n",
    "    preprocessed_text = [token for token in my_stem.lemmatize(tokens_str) if token not in [\" \", \"  \", \"\\n\"]]\n",
    "\n",
    "    return preprocessed_text"
   ]
  },
  {
   "cell_type": "markdown",
   "id": "9183423a-a179-4cc2-bb20-c9d0a4cb347a",
   "metadata": {},
   "source": [
    "**Пример**"
   ]
  },
  {
   "cell_type": "code",
   "execution_count": 11,
   "id": "1af08461-91fe-4701-9a82-a334a427fca7",
   "metadata": {},
   "outputs": [
    {
     "name": "stdout",
     "output_type": "stream",
     "text": [
      "['альфа-банк', 'работать', 'замечательный', 'девушка', 'ильясов', 'орн', 'вежливый', 'отзывчивый', 'действительно', 'уч']\n"
     ]
    }
   ],
   "source": [
    "print(preprocess_pymystem3(df.Text[0][:100], stopwords_ru, punctuation_marks, my_stem))"
   ]
  },
  {
   "cell_type": "markdown",
   "id": "b7c9097e-e4b1-4aeb-acce-bd9448bd2492",
   "metadata": {},
   "source": [
    "**Вывод** - pymorphy3 работает быстрее, его и будем использовать для лемматизации."
   ]
  },
  {
   "cell_type": "markdown",
   "id": "2bae1f1b-54b2-4683-b0b2-cbc0b7320461",
   "metadata": {},
   "source": [
    "## Лемматизация всего корпуса текстов"
   ]
  },
  {
   "cell_type": "code",
   "execution_count": 43,
   "id": "8f90f1c7-a4e7-4c10-bda3-f4e7b4f8ea72",
   "metadata": {},
   "outputs": [],
   "source": [
    "df[\"Preprocessed_texts\"] = df[\"Text\"].apply(lambda x: preprocess_pymorphy3(x, stopwords_ru, punktuation_marks, morph))"
   ]
  },
  {
   "cell_type": "code",
   "execution_count": 44,
   "id": "a24eb7be-8162-4ffa-bb8a-0ca30cbf9b7f",
   "metadata": {},
   "outputs": [
    {
     "name": "stdout",
     "output_type": "stream",
     "text": [
      "Предложение 1:\n",
      "['альфа-банк', 'работать', 'замечательный', 'девушка', 'ильясова', 'орный', 'вежливый', 'отзывчивый', 'действительно', 'участвовать', 'запрос', 'клиент', 'приходить', 'подряд', 'ровно', 'день', 'каждый', 'день', 'помнить', 'время', 'приход', 'помочь', 'оформить', 'кредит', 'размер', '1млн', 'рубль', 'прийти', 'партнёр', 'передавать', 'получить', 'кредит', 'покупать', 'авто', 'специалист', 'ильясова', 'орный', 'помочь', 'вывести', 'весь', 'сумма', 'день', 'это', 'непросто', 'сделка', 'состояться', 'всё', 'остаться', 'довольный', 'знакомый', 'конец', 'весь', 'добавить', 'понять', 'почему', 'прислать', 'это', 'отделение', 'девушка', 'большой', 'замечательный', 'специалист', 'приобретать', 'программа', 'здоровье', 'вообще', 'всё', 'связать', 'альфа-банк']\n",
      "Предложение 2:\n",
      "['оформлять', 'рассрочка', 'м.', 'видео', 'мег', 'тёплый', 'стан', 'попросить', 'менеджер', 'заявка', 'страховка', 'итог', 'подписывать', 'договор', 'договор', 'оказаться', 'лишний', '6', 'тысяча', 'менеджер', 'стать', 'спрашивать', 'это', '6', 'тысяча', 'стать', 'нервничать', 'говорить', 'какой-то', 'чушь', 'скидка', 'течение', 'месяц', 'полностью', 'закрой', 'кредит', 'действовать', 'скидка', '6', 'тысяча', 'пытаться', 'найти', 'договор', 'что-то', 'страховка', 'начало', 'найти', 'посчитать', 'правда', 'страховка', 'нету', 'итог', 'пара', 'день', 'тщательно', 'спокойный', 'обстановка', 'полистать', 'кредитный', 'договор', 'найти', '6', 'тысяча', 'страховка', 'который', 'просить', 'оформлять', 'вопрос', 'страховка', 'менеджер', 'стать', 'говорить', 'страховка', 'нету', 'заговаривать', 'зуб', 'рассказывать', 'зачем-то', 'свой', 'якобы', 'кредит', 'прийти', 'банк', 'отстоять', 'очередь', 'час', 'сказать', 'мочь', 'отказаться', 'страховка', 'деньга', 'вернуть', 'пройти', '5', 'день', 'оформление', 'кредит', '5', 'день', 'сказать', 'также', 'условие', 'участие', 'программа', 'страхование', 'рука', 'выдать', 'лишь', 'пункт', '14', 'стоить', 'ознакомлена.замечательный', 'работа', 'менеджер', 'который', 'спихнуть', 'свой', 'страховка', 'получить', 'свой', 'процент', 'заговаривать', 'человек', 'потерять', 'бдительность', 'делать', 'нужно', 'подписание', 'документ', 'нужно', 'читать', 'каждый', 'запятая', 'менеджер', 'должный', 'адекватный', 'вопрос', 'страховка', 'сумма', 'отвечать', 'внятно', 'психовать', 'говорить', 'объяснить', 'скидка']\n"
     ]
    }
   ],
   "source": [
    "for i in range(2):\n",
    "    sentence = df.Preprocessed_texts.loc[i]\n",
    "    print(f\"Предложение {i + 1}:\\n{sentence}\")"
   ]
  },
  {
   "cell_type": "markdown",
   "id": "f1f652ca-4147-4f33-bf46-a59210339ced",
   "metadata": {},
   "source": [
    "# Создаем мешок слов (BoW)"
   ]
  },
  {
   "cell_type": "markdown",
   "id": "3f1fce9c-cdcf-4b91-8a1d-d69f684638e6",
   "metadata": {},
   "source": [
    "## Реализация функции для составления BoW"
   ]
  },
  {
   "cell_type": "code",
   "execution_count": 54,
   "id": "696c0c4f-f52e-4200-96ea-a755a7a6dbb5",
   "metadata": {},
   "outputs": [],
   "source": [
    "def make_BoW(text, counter_keys):\n",
    "    \"\"\"\n",
    "    Функция создает последовательность Bag of Words для документа (предложения)\n",
    "    \"\"\"\n",
    "    sen = []\n",
    "    for word in counter_keys:\n",
    "        if word in text:\n",
    "            element = text.count(word)\n",
    "            sen.append(element)\n",
    "        else:\n",
    "            sen.append(0)\n",
    "    return sen"
   ]
  },
  {
   "cell_type": "markdown",
   "id": "99816f5c-0227-4b22-8a70-465ebd74e35d",
   "metadata": {},
   "source": [
    "## Создание словаря частотности слов, входящих в коллекцию документов"
   ]
  },
  {
   "cell_type": "code",
   "execution_count": 61,
   "id": "e69035de-4780-4b6b-8f2b-d9a2d602eeab",
   "metadata": {},
   "outputs": [],
   "source": [
    "counter = Counter()\n",
    "for txt in df.Preprocessed_texts:\n",
    "    counter.update(txt)"
   ]
  },
  {
   "cell_type": "markdown",
   "id": "a0cf8e8b-0ea2-42c5-ba5c-7c372ae57b39",
   "metadata": {},
   "source": [
    "**Обрезаем частотный словарь до 10000 самых частых слов**"
   ]
  },
  {
   "cell_type": "code",
   "execution_count": 62,
   "id": "5e511919-8a15-4de1-925d-c77f5a3ad182",
   "metadata": {},
   "outputs": [],
   "source": [
    "counter = dict(counter.most_common(max_words))"
   ]
  },
  {
   "cell_type": "code",
   "execution_count": 63,
   "id": "e760edc4-e5bd-4f1e-bf1b-8bbfe7a3a9dd",
   "metadata": {},
   "outputs": [],
   "source": [
    "counter_keys = list(counter.keys())"
   ]
  },
  {
   "cell_type": "markdown",
   "id": "84c2ed54-f920-4e95-8137-e088409ef592",
   "metadata": {},
   "source": [
    "## Добавляем колонку с векторами (BoW) для каждого предложения в df"
   ]
  },
  {
   "cell_type": "code",
   "execution_count": 21,
   "id": "e2936af3-658d-4bdf-bd15-4e001a81fff9",
   "metadata": {},
   "outputs": [],
   "source": [
    "df[\"Sequences\"] = df.Preprocessed_texts.apply(lambda x: make_BoW(x, counter_keys))"
   ]
  },
  {
   "cell_type": "code",
   "execution_count": 26,
   "id": "06dd61ef-d606-4694-a875-1340db1d61f4",
   "metadata": {},
   "outputs": [
    {
     "name": "stdout",
     "output_type": "stream",
     "text": [
      "Первые 10 элементов BoW вектора 1-го документа: [0, 0, 2, 2, 3, 0, 0, 2, 0, 0]\n"
     ]
    }
   ],
   "source": [
    "print(f\"Первые 10 элементов BoW вектора 1-го документа:\", df.Sequences[0][:10])"
   ]
  },
  {
   "cell_type": "markdown",
   "id": "77baf01a-2c65-4743-ab70-e78bb0136e6b",
   "metadata": {},
   "source": [
    "## Преобразуем текстовые данные \"Score\" в числовые"
   ]
  },
  {
   "cell_type": "code",
   "execution_count": 30,
   "id": "17d86fac-d579-441e-9a87-6c983c2b84d7",
   "metadata": {},
   "outputs": [],
   "source": [
    "df[\"Score\"] = np.where(df.Score == \"Positive\", 1, 0)"
   ]
  },
  {
   "cell_type": "code",
   "execution_count": 34,
   "id": "961d52ba-b515-417e-97bb-df229f88ea44",
   "metadata": {},
   "outputs": [
    {
     "data": {
      "text/plain": [
       "idx\n",
       "0    1\n",
       "1    0\n",
       "2    1\n",
       "3    0\n",
       "4    0\n",
       "Name: Score, dtype: int32"
      ]
     },
     "execution_count": 34,
     "metadata": {},
     "output_type": "execute_result"
    }
   ],
   "source": [
    "df.Score[:5]"
   ]
  },
  {
   "cell_type": "code",
   "execution_count": 38,
   "id": "8a25d3fc-3e91-4963-8659-04ffb704037a",
   "metadata": {},
   "outputs": [
    {
     "data": {
      "text/plain": [
       "0"
      ]
     },
     "execution_count": 38,
     "metadata": {},
     "output_type": "execute_result"
    }
   ],
   "source": [
    "# Проверка, что нет пропусков по Score\n",
    "df.Score.isna().sum()"
   ]
  },
  {
   "cell_type": "markdown",
   "id": "b4ef8eaa-a4f1-4b7b-82f8-cd584eae84c5",
   "metadata": {},
   "source": [
    "# Подготовка данных к обучению"
   ]
  },
  {
   "cell_type": "code",
   "execution_count": 6,
   "id": "a5b0175a-0992-4c26-a03a-d3b3fb9ffda4",
   "metadata": {
    "scrolled": true
   },
   "outputs": [],
   "source": [
    "X = []\n",
    "for i in df[\"Sequences\"]:\n",
    "    X.append(i)"
   ]
  },
  {
   "cell_type": "code",
   "execution_count": 8,
   "id": "23084d6c-1677-46ca-9c61-63f2323e74ce",
   "metadata": {},
   "outputs": [],
   "source": [
    "X = np.array(X)"
   ]
  },
  {
   "cell_type": "code",
   "execution_count": 9,
   "id": "003485b9-03ae-4b6b-8543-f8716d091945",
   "metadata": {},
   "outputs": [],
   "source": [
    "y = df[\"Score\"].values"
   ]
  },
  {
   "cell_type": "code",
   "execution_count": 11,
   "id": "73d51d19-303e-4128-8c89-dd192f9f1125",
   "metadata": {},
   "outputs": [],
   "source": [
    "X_train, X_test, y_train, y_test = train_test_split(X, y, test_size=0.2, random_state=random_state)"
   ]
  },
  {
   "cell_type": "code",
   "execution_count": 12,
   "id": "ff8083d3-e5cb-4187-8ba4-c7b1d31f8c4d",
   "metadata": {},
   "outputs": [
    {
     "name": "stdout",
     "output_type": "stream",
     "text": [
      "Размер обучающей выборки = 11199 строк\n"
     ]
    }
   ],
   "source": [
    "print(f\"Размер обучающей выборки = {X_train.shape[0]} строк\")"
   ]
  },
  {
   "cell_type": "code",
   "execution_count": 13,
   "id": "ced89092-ae3a-4d52-8fa1-649781c52eac",
   "metadata": {},
   "outputs": [
    {
     "name": "stdout",
     "output_type": "stream",
     "text": [
      "Размер тестовой выборки = 2800 строк\n"
     ]
    }
   ],
   "source": [
    "print(f\"Размер тестовой выборки = {X_test.shape[0]} строк\")"
   ]
  },
  {
   "cell_type": "markdown",
   "id": "98c2e114-d140-44b3-934b-3a236c37975d",
   "metadata": {},
   "source": [
    "# Машинное обучение"
   ]
  },
  {
   "cell_type": "markdown",
   "id": "3647183b-8029-4914-88ba-30152a627d4e",
   "metadata": {},
   "source": [
    "## Модель №1 - Logistic Regression"
   ]
  },
  {
   "cell_type": "code",
   "execution_count": 14,
   "id": "62d7ee25-ef2e-48a8-ba4c-1357e5a859e2",
   "metadata": {},
   "outputs": [],
   "source": [
    "lr = LogisticRegression(random_state=random_state, max_iter=500)"
   ]
  },
  {
   "cell_type": "code",
   "execution_count": 15,
   "id": "db1d5397-cc60-4b4e-a5cf-e450b6702c67",
   "metadata": {
    "scrolled": true
   },
   "outputs": [
    {
     "data": {
      "text/html": [
       "<style>#sk-container-id-1 {color: black;}#sk-container-id-1 pre{padding: 0;}#sk-container-id-1 div.sk-toggleable {background-color: white;}#sk-container-id-1 label.sk-toggleable__label {cursor: pointer;display: block;width: 100%;margin-bottom: 0;padding: 0.3em;box-sizing: border-box;text-align: center;}#sk-container-id-1 label.sk-toggleable__label-arrow:before {content: \"▸\";float: left;margin-right: 0.25em;color: #696969;}#sk-container-id-1 label.sk-toggleable__label-arrow:hover:before {color: black;}#sk-container-id-1 div.sk-estimator:hover label.sk-toggleable__label-arrow:before {color: black;}#sk-container-id-1 div.sk-toggleable__content {max-height: 0;max-width: 0;overflow: hidden;text-align: left;background-color: #f0f8ff;}#sk-container-id-1 div.sk-toggleable__content pre {margin: 0.2em;color: black;border-radius: 0.25em;background-color: #f0f8ff;}#sk-container-id-1 input.sk-toggleable__control:checked~div.sk-toggleable__content {max-height: 200px;max-width: 100%;overflow: auto;}#sk-container-id-1 input.sk-toggleable__control:checked~label.sk-toggleable__label-arrow:before {content: \"▾\";}#sk-container-id-1 div.sk-estimator input.sk-toggleable__control:checked~label.sk-toggleable__label {background-color: #d4ebff;}#sk-container-id-1 div.sk-label input.sk-toggleable__control:checked~label.sk-toggleable__label {background-color: #d4ebff;}#sk-container-id-1 input.sk-hidden--visually {border: 0;clip: rect(1px 1px 1px 1px);clip: rect(1px, 1px, 1px, 1px);height: 1px;margin: -1px;overflow: hidden;padding: 0;position: absolute;width: 1px;}#sk-container-id-1 div.sk-estimator {font-family: monospace;background-color: #f0f8ff;border: 1px dotted black;border-radius: 0.25em;box-sizing: border-box;margin-bottom: 0.5em;}#sk-container-id-1 div.sk-estimator:hover {background-color: #d4ebff;}#sk-container-id-1 div.sk-parallel-item::after {content: \"\";width: 100%;border-bottom: 1px solid gray;flex-grow: 1;}#sk-container-id-1 div.sk-label:hover label.sk-toggleable__label {background-color: #d4ebff;}#sk-container-id-1 div.sk-serial::before {content: \"\";position: absolute;border-left: 1px solid gray;box-sizing: border-box;top: 0;bottom: 0;left: 50%;z-index: 0;}#sk-container-id-1 div.sk-serial {display: flex;flex-direction: column;align-items: center;background-color: white;padding-right: 0.2em;padding-left: 0.2em;position: relative;}#sk-container-id-1 div.sk-item {position: relative;z-index: 1;}#sk-container-id-1 div.sk-parallel {display: flex;align-items: stretch;justify-content: center;background-color: white;position: relative;}#sk-container-id-1 div.sk-item::before, #sk-container-id-1 div.sk-parallel-item::before {content: \"\";position: absolute;border-left: 1px solid gray;box-sizing: border-box;top: 0;bottom: 0;left: 50%;z-index: -1;}#sk-container-id-1 div.sk-parallel-item {display: flex;flex-direction: column;z-index: 1;position: relative;background-color: white;}#sk-container-id-1 div.sk-parallel-item:first-child::after {align-self: flex-end;width: 50%;}#sk-container-id-1 div.sk-parallel-item:last-child::after {align-self: flex-start;width: 50%;}#sk-container-id-1 div.sk-parallel-item:only-child::after {width: 0;}#sk-container-id-1 div.sk-dashed-wrapped {border: 1px dashed gray;margin: 0 0.4em 0.5em 0.4em;box-sizing: border-box;padding-bottom: 0.4em;background-color: white;}#sk-container-id-1 div.sk-label label {font-family: monospace;font-weight: bold;display: inline-block;line-height: 1.2em;}#sk-container-id-1 div.sk-label-container {text-align: center;}#sk-container-id-1 div.sk-container {/* jupyter's `normalize.less` sets `[hidden] { display: none; }` but bootstrap.min.css set `[hidden] { display: none !important; }` so we also need the `!important` here to be able to override the default hidden behavior on the sphinx rendered scikit-learn.org. See: https://github.com/scikit-learn/scikit-learn/issues/21755 */display: inline-block !important;position: relative;}#sk-container-id-1 div.sk-text-repr-fallback {display: none;}</style><div id=\"sk-container-id-1\" class=\"sk-top-container\"><div class=\"sk-text-repr-fallback\"><pre>LogisticRegression(max_iter=500, random_state=42)</pre><b>In a Jupyter environment, please rerun this cell to show the HTML representation or trust the notebook. <br />On GitHub, the HTML representation is unable to render, please try loading this page with nbviewer.org.</b></div><div class=\"sk-container\" hidden><div class=\"sk-item\"><div class=\"sk-estimator sk-toggleable\"><input class=\"sk-toggleable__control sk-hidden--visually\" id=\"sk-estimator-id-1\" type=\"checkbox\" checked><label for=\"sk-estimator-id-1\" class=\"sk-toggleable__label sk-toggleable__label-arrow\">LogisticRegression</label><div class=\"sk-toggleable__content\"><pre>LogisticRegression(max_iter=500, random_state=42)</pre></div></div></div></div></div>"
      ],
      "text/plain": [
       "LogisticRegression(max_iter=500, random_state=42)"
      ]
     },
     "execution_count": 15,
     "metadata": {},
     "output_type": "execute_result"
    }
   ],
   "source": [
    "lr.fit(X_train, y_train)"
   ]
  },
  {
   "cell_type": "code",
   "execution_count": 50,
   "id": "ae58af87-01cc-426c-a594-818072ea05ab",
   "metadata": {},
   "outputs": [
    {
     "name": "stdout",
     "output_type": "stream",
     "text": [
      "Доля правильных ответов (accuracy) на тестовом наборе данных = 93.93%\n"
     ]
    }
   ],
   "source": [
    "print(f\"Доля правильных ответов (accuracy) на тестовом наборе данных = {lr.score(X_test, y_test) * 100:.2f}%\")"
   ]
  },
  {
   "cell_type": "markdown",
   "id": "c8a4a45a-550c-4d06-907f-a53c04fbd922",
   "metadata": {},
   "source": [
    "**Сохранение модели на диск**"
   ]
  },
  {
   "cell_type": "code",
   "execution_count": 21,
   "id": "15bf9c6b-960a-4b0c-a19d-f83d7ed1fd6e",
   "metadata": {},
   "outputs": [
    {
     "data": {
      "text/plain": [
       "['D:/Programming/PetProjects ML/Bank-text-classification/Models/model_1.pkl']"
      ]
     },
     "execution_count": 21,
     "metadata": {},
     "output_type": "execute_result"
    }
   ],
   "source": [
    "joblib.dump(lr, main_path + \"Models/model_1.pkl\")"
   ]
  },
  {
   "cell_type": "markdown",
   "id": "cbcfcf56-aef7-4fc8-a556-568c9fda41e1",
   "metadata": {},
   "source": [
    "**Загрузка модели с диска**"
   ]
  },
  {
   "cell_type": "code",
   "execution_count": null,
   "id": "68aa8c20-a644-4fb8-be59-54c2388b93c9",
   "metadata": {},
   "outputs": [],
   "source": [
    "lr = joblib.load(main_path + \"Models/model_1.pkl\")"
   ]
  },
  {
   "cell_type": "markdown",
   "id": "3c11a02d-83f6-443f-9e7d-907f8297295b",
   "metadata": {},
   "source": [
    "### Матрица ошибок модели №1"
   ]
  },
  {
   "cell_type": "code",
   "execution_count": 28,
   "id": "a075d65b-4e63-44a5-9234-015b881475cf",
   "metadata": {},
   "outputs": [],
   "source": [
    "predicted = lr.predict(X_test)\n",
    "cm = confusion_matrix(y_true=y_test, y_pred=predicted)"
   ]
  },
  {
   "cell_type": "code",
   "execution_count": 49,
   "id": "96d363de-aed0-4f64-a915-9316315169b3",
   "metadata": {},
   "outputs": [
    {
     "data": {
      "image/png": "[encoded data removed]",
      "text/plain": [
       "<Figure size 640x480 with 2 Axes>"
      ]
     },
     "metadata": {},
     "output_type": "display_data"
    }
   ],
   "source": [
    "ax= plt.subplot()\n",
    "sns.heatmap(cm, annot=True, fmt='g', ax=ax, cmap=\"tab20\");  #annot=True to annotate cells, ftm='g' to disable scientific notation\n",
    "\n",
    "# labels, title and ticks\n",
    "ax.set_xlabel('Predicted labels');ax.set_ylabel('True labels'); \n",
    "ax.set_title('Confusion Matrix'); \n",
    "ax.xaxis.set_ticklabels(['0', '1']); ax.yaxis.set_ticklabels(['0', '1'])\n",
    "plt.show()"
   ]
  },
  {
   "cell_type": "markdown",
   "id": "789815f8-56f6-466e-ab8c-1db1d642f8bd",
   "metadata": {},
   "source": [
    "# Предсказание класса для банковского отзыва"
   ]
  },
  {
   "cell_type": "code",
   "execution_count": 65,
   "id": "e4885002-fb78-491a-86b5-5deaf4f65a91",
   "metadata": {},
   "outputs": [],
   "source": [
    "def predict_class(text, model, stop_words, punktuation_marks, morph,\n",
    "                  counter_keys):\n",
    "    \"\"\"\n",
    "    \n",
    "    \"\"\"\n",
    "    # Токенизация текста и лемматизация\n",
    "    preprocessed_text = preprocess_pymorphy3(text, stop_words, punktuation_marks, morph)\n",
    "    # Извлечение признаков и построение BoW (Bag of Words)\n",
    "    BoW = make_BoW(preprocessed_text, counter_keys)\n",
    "    \n",
    "    # Предсказание класса отзыва на банк\n",
    "    return model.predict([BoW])"
   ]
  },
  {
   "cell_type": "code",
   "execution_count": 72,
   "id": "ae620f0f-c973-4540-9cd0-34be4f84cc6a",
   "metadata": {},
   "outputs": [
    {
     "name": "stdout",
     "output_type": "stream",
     "text": [
      "Коментарий положительный\n"
     ]
    }
   ],
   "source": [
    "pos_comment = \"\"\"Всем привет. Недавно побывал в банке Сова, банк очень комфортный и красивый. Меня быстро обслужили и даже угостили кофе.\n",
    "Всем рекомендую данный банк. Работают профессионалы!\"\"\"\n",
    "\n",
    "# Предсказание класса для комментария\n",
    "predicted_class = predict_class(pos_comment, lr, stopwords_ru, punktuation_marks, morph, counter_keys)\n",
    "\n",
    "print(np.where(predicted_class == 1, \"Коментарий положительный\", \"Коментарий отрицательный\")[0])"
   ]
  },
  {
   "cell_type": "code",
   "execution_count": 71,
   "id": "93ef5502-6f6c-4fb7-b603-e6e1ec523213",
   "metadata": {},
   "outputs": [
    {
     "name": "stdout",
     "output_type": "stream",
     "text": [
      "Коментарий отрицательный\n"
     ]
    }
   ],
   "source": [
    "neg_comment = \"\"\"Всем привет. Недавно побывал в банке Мосбанк, банк красивый, но работают очень медленно. Ждал очередь 50 минут,\n",
    "так они меня еще послали домой за дополнительным документом. Потом мне подсунули кредит, который я не просил, в итоге банк не рекомендую, не тратьте время!\"\"\"\n",
    "\n",
    "# Предсказание класса для комментария\n",
    "predicted_class = predict_class(neg_comment, lr, stopwords_ru, punktuation_marks, morph, counter_keys)\n",
    "\n",
    "print(np.where(predicted_class == 1, \"Коментарий положительный\", \"Коментарий отрицательный\")[0])"
   ]
  }
 ],
 "metadata": {
  "kernelspec": {
   "display_name": "Python 3 (ipykernel)",
   "language": "python",
   "name": "python3"
  },
  "language_info": {
   "codemirror_mode": {
    "name": "ipython",
    "version": 3
   },
   "file_extension": ".py",
   "mimetype": "text/x-python",
   "name": "python",
   "nbconvert_exporter": "python",
   "pygments_lexer": "ipython3",
   "version": "3.10.5"
  }
 },
 "nbformat": 4,
 "nbformat_minor": 5
}
